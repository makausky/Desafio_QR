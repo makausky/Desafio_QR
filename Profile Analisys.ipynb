{
 "cells": [
  {
   "cell_type": "code",
   "execution_count": 2,
   "metadata": {},
   "outputs": [],
   "source": [
    "#Geral\n",
    "import numpy as np\n",
    "import pandas as pd\n",
    "import os\n",
    "\n",
    "#Visualizações\n",
    "import matplotlib.pyplot as plt\n",
    "%matplotlib inline\n",
    "\n",
    "#Datas\n",
    "from datetime import datetime"
   ]
  },
  {
   "cell_type": "markdown",
   "metadata": {},
   "source": [
    "Informações gerais do dataset"
   ]
  },
  {
   "cell_type": "code",
   "execution_count": 3,
   "metadata": {},
   "outputs": [
    {
     "name": "stderr",
     "output_type": "stream",
     "text": [
      "C:\\Users\\felip\\AppData\\Local\\Temp\\ipykernel_7992\\3300278233.py:1: DtypeWarning: Columns (4,5,6,7,12) have mixed types. Specify dtype option on import or set low_memory=False.\n",
      "  df = pd.read_csv('Bitcoin Tweets.csv')\n"
     ]
    },
    {
     "data": {
      "text/html": [
       "<div>\n",
       "<style scoped>\n",
       "    .dataframe tbody tr th:only-of-type {\n",
       "        vertical-align: middle;\n",
       "    }\n",
       "\n",
       "    .dataframe tbody tr th {\n",
       "        vertical-align: top;\n",
       "    }\n",
       "\n",
       "    .dataframe thead th {\n",
       "        text-align: right;\n",
       "    }\n",
       "</style>\n",
       "<table border=\"1\" class=\"dataframe\">\n",
       "  <thead>\n",
       "    <tr style=\"text-align: right;\">\n",
       "      <th></th>\n",
       "      <th>user_name</th>\n",
       "      <th>user_location</th>\n",
       "      <th>user_description</th>\n",
       "      <th>user_created</th>\n",
       "      <th>user_followers</th>\n",
       "      <th>user_friends</th>\n",
       "      <th>user_favourites</th>\n",
       "      <th>user_verified</th>\n",
       "      <th>date</th>\n",
       "      <th>text</th>\n",
       "      <th>hashtags</th>\n",
       "      <th>source</th>\n",
       "      <th>is_retweet</th>\n",
       "    </tr>\n",
       "  </thead>\n",
       "  <tbody>\n",
       "    <tr>\n",
       "      <th>0</th>\n",
       "      <td>DeSota Wilson</td>\n",
       "      <td>Atlanta, GA</td>\n",
       "      <td>Biz Consultant, real estate, fintech, startups...</td>\n",
       "      <td>2009-04-26 20:05:09</td>\n",
       "      <td>8534.0</td>\n",
       "      <td>7605</td>\n",
       "      <td>4838</td>\n",
       "      <td>False</td>\n",
       "      <td>2021-02-10 23:59:04</td>\n",
       "      <td>Blue Ridge Bank shares halted by NYSE after #b...</td>\n",
       "      <td>['bitcoin']</td>\n",
       "      <td>Twitter Web App</td>\n",
       "      <td>False</td>\n",
       "    </tr>\n",
       "    <tr>\n",
       "      <th>1</th>\n",
       "      <td>CryptoND</td>\n",
       "      <td>NaN</td>\n",
       "      <td>😎 BITCOINLIVE is a Dutch platform aimed at inf...</td>\n",
       "      <td>2019-10-17 20:12:10</td>\n",
       "      <td>6769.0</td>\n",
       "      <td>1532</td>\n",
       "      <td>25483</td>\n",
       "      <td>False</td>\n",
       "      <td>2021-02-10 23:58:48</td>\n",
       "      <td>😎 Today, that's this #Thursday, we will do a \"...</td>\n",
       "      <td>['Thursday', 'Btc', 'wallet', 'security']</td>\n",
       "      <td>Twitter for Android</td>\n",
       "      <td>False</td>\n",
       "    </tr>\n",
       "    <tr>\n",
       "      <th>2</th>\n",
       "      <td>Tdlmatias</td>\n",
       "      <td>London, England</td>\n",
       "      <td>IM Academy : The best #forex, #SelfEducation, ...</td>\n",
       "      <td>2014-11-10 10:50:37</td>\n",
       "      <td>128.0</td>\n",
       "      <td>332</td>\n",
       "      <td>924</td>\n",
       "      <td>False</td>\n",
       "      <td>2021-02-10 23:54:48</td>\n",
       "      <td>Guys evening, I have read this article about B...</td>\n",
       "      <td>NaN</td>\n",
       "      <td>Twitter Web App</td>\n",
       "      <td>False</td>\n",
       "    </tr>\n",
       "    <tr>\n",
       "      <th>3</th>\n",
       "      <td>Crypto is the future</td>\n",
       "      <td>NaN</td>\n",
       "      <td>I will post a lot of buying signals for BTC tr...</td>\n",
       "      <td>2019-09-28 16:48:12</td>\n",
       "      <td>625.0</td>\n",
       "      <td>129</td>\n",
       "      <td>14</td>\n",
       "      <td>False</td>\n",
       "      <td>2021-02-10 23:54:33</td>\n",
       "      <td>$BTC A big chance in a billion! Price: \\487264...</td>\n",
       "      <td>['Bitcoin', 'FX', 'BTC', 'crypto']</td>\n",
       "      <td>dlvr.it</td>\n",
       "      <td>False</td>\n",
       "    </tr>\n",
       "    <tr>\n",
       "      <th>4</th>\n",
       "      <td>Alex Kirchmaier 🇦🇹🇸🇪 #FactsSuperspreader</td>\n",
       "      <td>Europa</td>\n",
       "      <td>Co-founder @RENJERJerky | Forbes 30Under30 | I...</td>\n",
       "      <td>2016-02-03 13:15:55</td>\n",
       "      <td>1249.0</td>\n",
       "      <td>1472</td>\n",
       "      <td>10482</td>\n",
       "      <td>False</td>\n",
       "      <td>2021-02-10 23:54:06</td>\n",
       "      <td>This network is secured by 9 508 nodes as of t...</td>\n",
       "      <td>['BTC']</td>\n",
       "      <td>Twitter Web App</td>\n",
       "      <td>False</td>\n",
       "    </tr>\n",
       "    <tr>\n",
       "      <th>...</th>\n",
       "      <td>...</td>\n",
       "      <td>...</td>\n",
       "      <td>...</td>\n",
       "      <td>...</td>\n",
       "      <td>...</td>\n",
       "      <td>...</td>\n",
       "      <td>...</td>\n",
       "      <td>...</td>\n",
       "      <td>...</td>\n",
       "      <td>...</td>\n",
       "      <td>...</td>\n",
       "      <td>...</td>\n",
       "      <td>...</td>\n",
       "    </tr>\n",
       "    <tr>\n",
       "      <th>3029113</th>\n",
       "      <td>Xannyx Airdrops</td>\n",
       "      <td>NaN</td>\n",
       "      <td>@pandagirltoken</td>\n",
       "      <td>2021-08-03 12:50:28</td>\n",
       "      <td>108.0</td>\n",
       "      <td>632.0</td>\n",
       "      <td>580.0</td>\n",
       "      <td>False</td>\n",
       "      <td>2022-04-17 18:43:13</td>\n",
       "      <td>@Poloniex you heard about pandacoin? The only ...</td>\n",
       "      <td>['pandagirl', 'nft', 'nftart', 'giveaway', 'BT...</td>\n",
       "      <td>Twitter for Android</td>\n",
       "      <td>False</td>\n",
       "    </tr>\n",
       "    <tr>\n",
       "      <th>3029114</th>\n",
       "      <td>Gangsta monkey</td>\n",
       "      <td>NaN</td>\n",
       "      <td>#nft #cro #crofam #nfts #opensea #btc #eth</td>\n",
       "      <td>2020-09-01 13:24:09</td>\n",
       "      <td>1658.0</td>\n",
       "      <td>3079.0</td>\n",
       "      <td>4689.0</td>\n",
       "      <td>False</td>\n",
       "      <td>2022-04-17 18:43:12</td>\n",
       "      <td>https://t.co/48ON3490ju\\nfriends the new airdo...</td>\n",
       "      <td>['BTC', 'Ethereum', 'AirdropCrypto', 'crypto',...</td>\n",
       "      <td>Twitter Web App</td>\n",
       "      <td>False</td>\n",
       "    </tr>\n",
       "    <tr>\n",
       "      <th>3029115</th>\n",
       "      <td>Pikachu</td>\n",
       "      <td>NaN</td>\n",
       "      <td>My bio no one can understand 🤫 #CRO</td>\n",
       "      <td>2021-05-02 15:33:12</td>\n",
       "      <td>20.0</td>\n",
       "      <td>213.0</td>\n",
       "      <td>222.0</td>\n",
       "      <td>False</td>\n",
       "      <td>2022-04-17 18:43:10</td>\n",
       "      <td>@OfficialTravlad Biggest easter Egg giveaway s...</td>\n",
       "      <td>['BNB', 'BSC', 'NFT', 'NFTCommunity', 'bsCGems...</td>\n",
       "      <td>Twitter for Android</td>\n",
       "      <td>False</td>\n",
       "    </tr>\n",
       "    <tr>\n",
       "      <th>3029116</th>\n",
       "      <td>🅱️🅰️🆃🅼🅰️🅽 ®️</td>\n",
       "      <td>NaN</td>\n",
       "      <td>Shift Token Visuals📸\\n\\n🇸 🇭 🇮 🇫 🇹     🇹 🇴 🇰 🇪 🇳</td>\n",
       "      <td>2008-10-29 00:42:25</td>\n",
       "      <td>125.0</td>\n",
       "      <td>175.0</td>\n",
       "      <td>2902.0</td>\n",
       "      <td>False</td>\n",
       "      <td>2022-04-17 18:43:09</td>\n",
       "      <td>@TheMoonCarl 🏋️ #SHIFT - $SHIFT\\n🏋️ #SHIFTFIT ...</td>\n",
       "      <td>['SHIFT', 'SHIFTFIT', 'SHIFTNATION', 'SHIFTAPP...</td>\n",
       "      <td>Twitter for Android</td>\n",
       "      <td>False</td>\n",
       "    </tr>\n",
       "    <tr>\n",
       "      <th>3029117</th>\n",
       "      <td>İvan</td>\n",
       "      <td>NaN</td>\n",
       "      <td>😎</td>\n",
       "      <td>2022-01-11 09:07:33</td>\n",
       "      <td>19.0</td>\n",
       "      <td>51.0</td>\n",
       "      <td>42.0</td>\n",
       "      <td>False</td>\n",
       "      <td>2022-04-17 18:43:08</td>\n",
       "      <td>@APompliano We rank first in the most valuable...</td>\n",
       "      <td>['mevrtoken', 'mevr', 'ETH', 'Solana', 'BTC', ...</td>\n",
       "      <td>Twitter for Android</td>\n",
       "      <td>False</td>\n",
       "    </tr>\n",
       "  </tbody>\n",
       "</table>\n",
       "<p>3029118 rows × 13 columns</p>\n",
       "</div>"
      ],
      "text/plain": [
       "                                        user_name    user_location  \\\n",
       "0                                   DeSota Wilson      Atlanta, GA   \n",
       "1                                        CryptoND              NaN   \n",
       "2                                       Tdlmatias  London, England   \n",
       "3                            Crypto is the future              NaN   \n",
       "4        Alex Kirchmaier 🇦🇹🇸🇪 #FactsSuperspreader           Europa   \n",
       "...                                           ...              ...   \n",
       "3029113                           Xannyx Airdrops              NaN   \n",
       "3029114                            Gangsta monkey              NaN   \n",
       "3029115                                   Pikachu              NaN   \n",
       "3029116                              🅱️🅰️🆃🅼🅰️🅽 ®️              NaN   \n",
       "3029117                                      İvan              NaN   \n",
       "\n",
       "                                          user_description  \\\n",
       "0        Biz Consultant, real estate, fintech, startups...   \n",
       "1        😎 BITCOINLIVE is a Dutch platform aimed at inf...   \n",
       "2        IM Academy : The best #forex, #SelfEducation, ...   \n",
       "3        I will post a lot of buying signals for BTC tr...   \n",
       "4        Co-founder @RENJERJerky | Forbes 30Under30 | I...   \n",
       "...                                                    ...   \n",
       "3029113                                    @pandagirltoken   \n",
       "3029114         #nft #cro #crofam #nfts #opensea #btc #eth   \n",
       "3029115                My bio no one can understand 🤫 #CRO   \n",
       "3029116    Shift Token Visuals📸\\n\\n🇸 🇭 🇮 🇫 🇹     🇹 🇴 🇰 🇪 🇳   \n",
       "3029117                                                  😎   \n",
       "\n",
       "                user_created user_followers user_friends user_favourites  \\\n",
       "0        2009-04-26 20:05:09         8534.0         7605            4838   \n",
       "1        2019-10-17 20:12:10         6769.0         1532           25483   \n",
       "2        2014-11-10 10:50:37          128.0          332             924   \n",
       "3        2019-09-28 16:48:12          625.0          129              14   \n",
       "4        2016-02-03 13:15:55         1249.0         1472           10482   \n",
       "...                      ...            ...          ...             ...   \n",
       "3029113  2021-08-03 12:50:28          108.0        632.0           580.0   \n",
       "3029114  2020-09-01 13:24:09         1658.0       3079.0          4689.0   \n",
       "3029115  2021-05-02 15:33:12           20.0        213.0           222.0   \n",
       "3029116  2008-10-29 00:42:25          125.0        175.0          2902.0   \n",
       "3029117  2022-01-11 09:07:33           19.0         51.0            42.0   \n",
       "\n",
       "        user_verified                 date  \\\n",
       "0               False  2021-02-10 23:59:04   \n",
       "1               False  2021-02-10 23:58:48   \n",
       "2               False  2021-02-10 23:54:48   \n",
       "3               False  2021-02-10 23:54:33   \n",
       "4               False  2021-02-10 23:54:06   \n",
       "...               ...                  ...   \n",
       "3029113         False  2022-04-17 18:43:13   \n",
       "3029114         False  2022-04-17 18:43:12   \n",
       "3029115         False  2022-04-17 18:43:10   \n",
       "3029116         False  2022-04-17 18:43:09   \n",
       "3029117         False  2022-04-17 18:43:08   \n",
       "\n",
       "                                                      text  \\\n",
       "0        Blue Ridge Bank shares halted by NYSE after #b...   \n",
       "1        😎 Today, that's this #Thursday, we will do a \"...   \n",
       "2        Guys evening, I have read this article about B...   \n",
       "3        $BTC A big chance in a billion! Price: \\487264...   \n",
       "4        This network is secured by 9 508 nodes as of t...   \n",
       "...                                                    ...   \n",
       "3029113  @Poloniex you heard about pandacoin? The only ...   \n",
       "3029114  https://t.co/48ON3490ju\\nfriends the new airdo...   \n",
       "3029115  @OfficialTravlad Biggest easter Egg giveaway s...   \n",
       "3029116  @TheMoonCarl 🏋️ #SHIFT - $SHIFT\\n🏋️ #SHIFTFIT ...   \n",
       "3029117  @APompliano We rank first in the most valuable...   \n",
       "\n",
       "                                                  hashtags  \\\n",
       "0                                              ['bitcoin']   \n",
       "1                ['Thursday', 'Btc', 'wallet', 'security']   \n",
       "2                                                      NaN   \n",
       "3                       ['Bitcoin', 'FX', 'BTC', 'crypto']   \n",
       "4                                                  ['BTC']   \n",
       "...                                                    ...   \n",
       "3029113  ['pandagirl', 'nft', 'nftart', 'giveaway', 'BT...   \n",
       "3029114  ['BTC', 'Ethereum', 'AirdropCrypto', 'crypto',...   \n",
       "3029115  ['BNB', 'BSC', 'NFT', 'NFTCommunity', 'bsCGems...   \n",
       "3029116  ['SHIFT', 'SHIFTFIT', 'SHIFTNATION', 'SHIFTAPP...   \n",
       "3029117  ['mevrtoken', 'mevr', 'ETH', 'Solana', 'BTC', ...   \n",
       "\n",
       "                      source is_retweet  \n",
       "0            Twitter Web App      False  \n",
       "1        Twitter for Android      False  \n",
       "2            Twitter Web App      False  \n",
       "3                    dlvr.it      False  \n",
       "4            Twitter Web App      False  \n",
       "...                      ...        ...  \n",
       "3029113  Twitter for Android      False  \n",
       "3029114      Twitter Web App      False  \n",
       "3029115  Twitter for Android      False  \n",
       "3029116  Twitter for Android      False  \n",
       "3029117  Twitter for Android      False  \n",
       "\n",
       "[3029118 rows x 13 columns]"
      ]
     },
     "execution_count": 3,
     "metadata": {},
     "output_type": "execute_result"
    }
   ],
   "source": [
    "# Importando dataset\n",
    "df = pd.read_csv('Bitcoin Tweets.csv')\n",
    "df"
   ]
  },
  {
   "cell_type": "markdown",
   "metadata": {},
   "source": [
    "Localização do usuário"
   ]
  },
  {
   "cell_type": "code",
   "execution_count": 4,
   "metadata": {},
   "outputs": [
    {
     "name": "stderr",
     "output_type": "stream",
     "text": [
      "C:\\Users\\felip\\AppData\\Local\\Temp\\ipykernel_7992\\1624536273.py:2: FutureWarning: The default value of regex will change from True to False in a future version. In addition, single character regular expressions will *not* be treated as literal strings when regex=True.\n",
      "  df0['user_location'] = df0['user_location'].str.replace('$', '\\\\$')\n"
     ]
    },
    {
     "data": {
      "text/plain": [
       "user_location      \n",
       "United States          36086\n",
       "New York, USA          21863\n",
       "London, England        20147\n",
       "Bay Area, CA           18134\n",
       "Global                 17575\n",
       "                       ...  \n",
       "Pittsburgh,  PA            1\n",
       "Cartaxo, Portugal          1\n",
       "Cartanal                   1\n",
       "Pittsburgh, PA  USA        1\n",
       "NOMAD/Gypsyville           1\n",
       "Length: 74923, dtype: int64"
      ]
     },
     "execution_count": 4,
     "metadata": {},
     "output_type": "execute_result"
    }
   ],
   "source": [
    "# Tratando o caractere especial '$'\n",
    "df0 = df\n",
    "df0['user_location'] = df0['user_location'].str.replace('$', '\\\\$')\n",
    "df0=df0[['user_location']]#[0:20000]\n",
    "df0.value_counts()"
   ]
  },
  {
   "cell_type": "code",
   "execution_count": 5,
   "metadata": {},
   "outputs": [
    {
     "data": {
      "text/plain": [
       "<AxesSubplot:xlabel='user_location'>"
      ]
     },
     "execution_count": 5,
     "metadata": {},
     "output_type": "execute_result"
    },
    {
     "data": {
      "image/png": "[encoded data removed]",
      "text/plain": [
       "<Figure size 432x288 with 1 Axes>"
      ]
     },
     "metadata": {
      "needs_background": "light"
     },
     "output_type": "display_data"
    }
   ],
   "source": [
    "df0.value_counts()[:15].plot.bar()\n",
    "\n",
    "# Insight\n",
    "# Países de língua inglesa são predominantes"
   ]
  },
  {
   "cell_type": "markdown",
   "metadata": {},
   "source": [
    "Tweet/retweet source"
   ]
  },
  {
   "cell_type": "code",
   "execution_count": 74,
   "metadata": {},
   "outputs": [
    {
     "data": {
      "text/plain": [
       "(0, 2)"
      ]
     },
     "execution_count": 74,
     "metadata": {},
     "output_type": "execute_result"
    }
   ],
   "source": [
    "df1_1 = df[['source','is_retweet']]\n",
    "df1_1 = df1_1[df1_1['is_retweet'] == True]\n",
    "df1_1.shape\n",
    "\n",
    "# Insight\n",
    "# Não existem retweets no dataset, embora exista o campo \"is_retweet\""
   ]
  },
  {
   "cell_type": "code",
   "execution_count": 161,
   "metadata": {},
   "outputs": [
    {
     "data": {
      "text/plain": [
       "<AxesSubplot:>"
      ]
     },
     "execution_count": 161,
     "metadata": {},
     "output_type": "execute_result"
    },
    {
     "data": {
      "image/png": "[encoded data removed]",
      "text/plain": [
       "<Figure size 432x288 with 1 Axes>"
      ]
     },
     "metadata": {
      "needs_background": "light"
     },
     "output_type": "display_data"
    }
   ],
   "source": [
    "# Soma cumulativa dos tweets por fonte ('source')\n",
    "df1_2 = df[['source']]\n",
    "(df1_2[\"source\"].value_counts().cumsum()/df1_2[\"source\"].value_counts().sum()*100).plot()"
   ]
  },
  {
   "cell_type": "code",
   "execution_count": 86,
   "metadata": {},
   "outputs": [
    {
     "data": {
      "text/plain": [
       "source                  \n",
       "Twitter for Android         916751\n",
       "Twitter Web App             777275\n",
       "Twitter for iPhone          576690\n",
       "IFTTT                        44852\n",
       "dlvr.it                      33953\n",
       "TweetDeck                    23269\n",
       "ContentStudio.io             21851\n",
       "Twitter for iPad             18436\n",
       "HoBaBot                      13137\n",
       "Hootsuite Inc.               12438\n",
       "exchangewhales               12371\n",
       "DYORCryptoBot                11875\n",
       "Bitcoin Whale Alert          11439\n",
       "Buffer                       11186\n",
       "vaiotapi                     10972\n",
       "bitcoinagile                 10877\n",
       "CoinTweety                    9991\n",
       "Twibble.io                    9802\n",
       "Microsoft Power Platform      8679\n",
       "Pamboo Crypto                 8488\n",
       "dtype: int64"
      ]
     },
     "execution_count": 86,
     "metadata": {},
     "output_type": "execute_result"
    }
   ],
   "source": [
    "df1=df[['source']]#[0:20000]\n",
    "df1.value_counts()[:20]\n",
    "\n",
    "# Insight\n",
    "# Twitter android + IOS + Web App ~= 2.250.000 tweets\n",
    "# Aproximadamente 25% das respostas são automáticas "
   ]
  },
  {
   "cell_type": "markdown",
   "metadata": {},
   "source": [
    "Horário de publicação"
   ]
  },
  {
   "cell_type": "code",
   "execution_count": 80,
   "metadata": {},
   "outputs": [],
   "source": [
    "# Horário de Verão Central - Chicago (GMT-5)\n",
    "# Horário de Verão das Montanhas - Denver (GMT-6)\n",
    "# Horário Padrão das Montanhas - Phoenix (GMT-7)\n",
    "# Horário de Verão do Pacífico - Los Angeles (GMT-8) - Sede da Twitter\n",
    "\n",
    "\n",
    "# Tratamento das datas de publicação\n",
    "df2 = df[(df['date'] >= '2021-02-05 10:52:04') & (df['date'] < '2022-05-01 00:00:00')]\n",
    "\n",
    "# Analisando apenas EUA, para entender as faixas de atividade\n",
    "df2 = df2[['user_location', 'date']]\n",
    "df2_1 = df2[(df2['user_location'].str.contains('USA') == True) | (df2['user_location'].str.contains('United States') == True)]\n",
    "df2_2 = df2_1[['date']]"
   ]
  },
  {
   "cell_type": "code",
   "execution_count": 79,
   "metadata": {},
   "outputs": [
    {
     "data": {
      "text/plain": [
       "(array([10383.,  5877.,  4799.,  8113.,  7753., 12294., 26981., 18116.,\n",
       "        16141., 21399.]),\n",
       " array([ 0. ,  2.3,  4.6,  6.9,  9.2, 11.5, 13.8, 16.1, 18.4, 20.7, 23. ]),\n",
       " <BarContainer object of 10 artists>)"
      ]
     },
     "execution_count": 79,
     "metadata": {},
     "output_type": "execute_result"
    },
    {
     "data": {
      "image/png": "[encoded data removed]",
      "text/plain": [
       "<Figure size 432x288 with 1 Axes>"
      ]
     },
     "metadata": {
      "needs_background": "light"
     },
     "output_type": "display_data"
    }
   ],
   "source": [
    "# Extraindo a hora\n",
    "df2_2 = pd.to_datetime(df2_2.stack())\n",
    "df2_3 = df2_2.dt.hour\n",
    "\n",
    "# Visualização\n",
    "plt.hist(df2_3)\n",
    "\n",
    "# Insight\n",
    "# Maior volume de tweets acontece na parte da tarde/noite"
   ]
  },
  {
   "cell_type": "markdown",
   "metadata": {},
   "source": [
    "Perfis relacionados ao Bitcoin"
   ]
  },
  {
   "cell_type": "code",
   "execution_count": 9,
   "metadata": {},
   "outputs": [
    {
     "data": {
      "text/plain": [
       "51.36273735287234"
      ]
     },
     "execution_count": 9,
     "metadata": {},
     "output_type": "execute_result"
    }
   ],
   "source": [
    "# Analisando nomes e descrições\n",
    "df3 = df[['user_name', 'user_description']]\n",
    "\n",
    "# Palavras chave\n",
    "words = ['btc', 'BTC', 'Btc', 'Bitcoin', 'BITCOIN', 'bitcoin', 'crypto', 'CRYPTO', 'Crypto']\n",
    "df3 = df3[(df3['user_name'].str.contains('|'.join(words)) == True) | (df3['user_description'].str.contains('|'.join(words)) == True)]\n",
    "\n",
    "# Número de correspondências\n",
    "df3_1 = df[['user_name']]\n",
    "df3_1['user_name'].value_counts().sum()\n",
    "\n",
    "# Percentual\n",
    "(df3['user_name'].value_counts().sum() / df3_1['user_name'].value_counts().sum())*100\n",
    "\n",
    "# Insight\n",
    "# Aproximadamente 50% dos perfis do dataset são perfis relacionados ao bitcoin e/ou outras cripto moedas"
   ]
  },
  {
   "cell_type": "markdown",
   "metadata": {},
   "source": [
    "Sazonalidade"
   ]
  },
  {
   "cell_type": "markdown",
   "metadata": {},
   "source": [
    "Tempo de conta"
   ]
  }
 ],
 "metadata": {
  "interpreter": {
   "hash": "138eecb39ae3161f6fe864a5c409d287405bdcf8c3af087e20a353b493c2e945"
  },
  "kernelspec": {
   "display_name": "Python 3.10.2 64-bit",
   "language": "python",
   "name": "python3"
  },
  "language_info": {
   "codemirror_mode": {
    "name": "ipython",
    "version": 3
   },
   "file_extension": ".py",
   "mimetype": "text/x-python",
   "name": "python",
   "nbconvert_exporter": "python",
   "pygments_lexer": "ipython3",
   "version": "3.10.2"
  },
  "orig_nbformat": 4
 },
 "nbformat": 4,
 "nbformat_minor": 2
}
